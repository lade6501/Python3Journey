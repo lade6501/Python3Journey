{
 "cells": [
  {
   "cell_type": "markdown",
   "id": "d8e4ebed",
   "metadata": {},
   "source": [
    "<img src=\"../Images/Practice.jpeg\" alt=\"Practice Image with Red Circle\" style=\"height: 300px; width:300px;\"/>\n",
    "\n",
    "\n",
    "# This is my solution of first question from follwoing question list \n",
    "\n",
    "[Python List - Exercises question](https://www.w3resource.com/python-exercises/list/)"
   ]
  },
  {
   "cell_type": "raw",
   "id": "7de1d70d",
   "metadata": {},
   "source": [
    "Q1. Write a Python program to sum all the items in a list."
   ]
  },
  {
   "cell_type": "code",
   "execution_count": 5,
   "id": "188fcc48",
   "metadata": {},
   "outputs": [],
   "source": [
    "#Defining mySolution method\n",
    "def mySolution(num_lst):\n",
    "    '''This method calculates sum of all the items in a list'''\n",
    "    sum_of_nums = 0\n",
    "    for num in num_lst:\n",
    "        sum_of_nums += int(num)\n",
    "        \n",
    "    return sum_of_nums\n",
    "    \n",
    "    #We can simply use built sum() metod as well \n",
    "    #return sum(num_lst)"
   ]
  },
  {
   "cell_type": "code",
   "execution_count": 6,
   "id": "d09b8977",
   "metadata": {},
   "outputs": [
    {
     "name": "stdout",
     "output_type": "stream",
     "text": [
      "Enter items in list : 10 20 30\n",
      "Sum of all the items in list is : 60\n"
     ]
    }
   ],
   "source": [
    "num_lst = input('Enter items in list : ').split()\n",
    "result = mySolution(num_lst)\n",
    "print('Sum of all the items in list is : {}'.format(result))"
   ]
  }
 ],
 "metadata": {
  "kernelspec": {
   "display_name": "Python 3 (ipykernel)",
   "language": "python",
   "name": "python3"
  },
  "language_info": {
   "codemirror_mode": {
    "name": "ipython",
    "version": 3
   },
   "file_extension": ".py",
   "mimetype": "text/x-python",
   "name": "python",
   "nbconvert_exporter": "python",
   "pygments_lexer": "ipython3",
   "version": "3.8.10"
  }
 },
 "nbformat": 4,
 "nbformat_minor": 5
}
