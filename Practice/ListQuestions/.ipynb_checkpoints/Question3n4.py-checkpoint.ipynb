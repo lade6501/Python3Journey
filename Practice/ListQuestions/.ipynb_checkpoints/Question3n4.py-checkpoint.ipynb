{
 "cells": [
  {
   "cell_type": "markdown",
   "id": "d8e4ebed",
   "metadata": {},
   "source": [
    "<img src=\"../Images/Practice.jpeg\" alt=\"Practice Image with Red Circle\" style=\"height: 300px; width:300px;\"/>\n",
    "\n",
    "\n",
    "# This is my solution of Fifth question from follwoing question list \n",
    "\n",
    "[Python List - Exercises question](https://www.w3resource.com/python-exercises/list/)"
   ]
  },
  {
   "cell_type": "raw",
   "id": "7de1d70d",
   "metadata": {},
   "source": [
    "Q5. Write a Python program to count the number of strings where the string length is 2 or more and the first and last character are same from a given list of strings. \n",
    "Sample List : ['abc', 'xyz', 'aba', '1221']\n",
    "Expected Result : 2"
   ]
  },
  {
   "cell_type": "code",
   "execution_count": 2,
   "id": "188fcc48",
   "metadata": {},
   "outputs": [],
   "source": [
    "#Defining mySolution method\n",
    "def mySolution(str_lst):\n",
    "    '''count the number of strings where the string length is 2 or more \n",
    "    and the first  and last character are same from a given list of strings'''\n",
    "    count = 0\n",
    "    for string in str_lst:\n",
    "        if( len(string) > 1 and string[0]==string[-1] ):\n",
    "            count += 1\n",
    "    \n",
    "    return count"
   ]
  },
  {
   "cell_type": "code",
   "execution_count": 10,
   "id": "d09b8977",
   "metadata": {},
   "outputs": [
    {
     "name": "stdout",
     "output_type": "stream",
     "text": [
      "Enter items in list : abc,xyz,aba,1221\n",
      "Sum of all the items in list is : 2\n"
     ]
    }
   ],
   "source": [
    "str_lst = input('Enter items in list : ').split(',')\n",
    "result = mySolution(str_lst)\n",
    "print('Sum of all the items in list is : {}'.format(result))"
   ]
  }
 ],
 "metadata": {
  "kernelspec": {
   "display_name": "Python 3 (ipykernel)",
   "language": "python",
   "name": "python3"
  },
  "language_info": {
   "codemirror_mode": {
    "name": "ipython",
    "version": 3
   },
   "file_extension": ".py",
   "mimetype": "text/x-python",
   "name": "python",
   "nbconvert_exporter": "python",
   "pygments_lexer": "ipython3",
   "version": "3.8.10"
  }
 },
 "nbformat": 4,
 "nbformat_minor": 5
}
