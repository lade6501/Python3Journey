{
 "cells": [
  {
   "cell_type": "markdown",
   "id": "d8e4ebed",
   "metadata": {},
   "source": [
    "<img src=\"../Images/Practice.jpeg\" alt=\"Practice Image with Red Circle\" style=\"height: 300px; width:300px;\"/>\n",
    "\n",
    "\n",
    "# This is my solution of Third and Fourth question from follwoing question list \n",
    "\n",
    "[Python List - Exercises question](https://www.w3resource.com/python-exercises/list/)"
   ]
  },
  {
   "cell_type": "raw",
   "id": "7de1d70d",
   "metadata": {},
   "source": [
    "Q3. Write a Python program to get the largest number from a list.\n",
    "Q4. Write a Python program to get the smallest number from a list."
   ]
  },
  {
   "cell_type": "code",
   "execution_count": 7,
   "id": "d09b8977",
   "metadata": {},
   "outputs": [
    {
     "name": "stdout",
     "output_type": "stream",
     "text": [
      "Enter items in list : 10 2 5 8 22 45\n",
      "Largest number from a list is : 45\n",
      "Smallest number from a list is : 2\n"
     ]
    }
   ],
   "source": [
    "num_lst = list(map(int,input('Enter items in list : ').split()))\n",
    "print('Largest number from a list is : {}'.format(max(num_lst)))\n",
    "print('Smallest number from a list is : {}'.format(min(num_lst)))"
   ]
  }
 ],
 "metadata": {
  "kernelspec": {
   "display_name": "Python 3 (ipykernel)",
   "language": "python",
   "name": "python3"
  },
  "language_info": {
   "codemirror_mode": {
    "name": "ipython",
    "version": 3
   },
   "file_extension": ".py",
   "mimetype": "text/x-python",
   "name": "python",
   "nbconvert_exporter": "python",
   "pygments_lexer": "ipython3",
   "version": "3.8.10"
  }
 },
 "nbformat": 4,
 "nbformat_minor": 5
}
