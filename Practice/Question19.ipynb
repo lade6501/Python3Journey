{
 "cells": [
  {
   "cell_type": "markdown",
   "id": "ce891c19",
   "metadata": {},
   "source": [
    "<img src=\"./Images/PracticeImg.jpg\" alt=\"Practice Image with Red Circle\" style=\"height: 300px; width:300px;\"/>\n",
    "\n",
    "\n",
    "# This is my solution of 19<sup>th</sup> question from follwoing question list \n",
    "\n",
    "[Python 150 question](https://www.w3resource.com/python-exercises/python-basic-exercises.php)"
   ]
  },
  {
   "cell_type": "raw",
   "id": "e6f5b678",
   "metadata": {},
   "source": [
    "Q19. Write a Python program to get a new string from a given string where \"Is\" has been added to the front. If the given string already begins with \"Is\" then return the string unchanged.\n",
    "\n",
    "Example 1 :\n",
    "Sample Input : 'Hello Apple'\n",
    "Expected Result : 'IsHello Apple'\n",
    "\n",
    "Example 2:\n",
    "Sample Input : 'Is it really an apple'\n",
    "Expected Result : 'Is it really an apple'"
   ]
  },
  {
   "cell_type": "code",
   "execution_count": 4,
   "id": "df8cc435",
   "metadata": {},
   "outputs": [],
   "source": [
    "#Defining mySolution method \n",
    "def mySolution(sample_input):\n",
    "    if sample_input.startswith('Is'): return sample_input\n",
    "    return ('Is' + sample_input)"
   ]
  },
  {
   "cell_type": "code",
   "execution_count": 7,
   "id": "cfa04203",
   "metadata": {},
   "outputs": [
    {
     "name": "stdout",
     "output_type": "stream",
     "text": [
      "Sample Input : Hello Apple\n",
      "Expected Result : IsHello Apple\n"
     ]
    }
   ],
   "source": [
    "sample_input = input('Sample Input : ')\n",
    "result = mySolution(sample_input)\n",
    "print(f'Expected Result : {result}')"
   ]
  },
  {
   "cell_type": "code",
   "execution_count": 8,
   "id": "614b50d6",
   "metadata": {},
   "outputs": [
    {
     "name": "stdout",
     "output_type": "stream",
     "text": [
      "Sample Input : Is it really an apple\n",
      "Expected Result : Is it really an apple\n"
     ]
    }
   ],
   "source": [
    "sample_input = input('Sample Input : ')\n",
    "result = mySolution(sample_input)\n",
    "print(f'Expected Result : {result}')"
   ]
  }
 ],
 "metadata": {
  "kernelspec": {
   "display_name": "Python 3 (ipykernel)",
   "language": "python",
   "name": "python3"
  },
  "language_info": {
   "codemirror_mode": {
    "name": "ipython",
    "version": 3
   },
   "file_extension": ".py",
   "mimetype": "text/x-python",
   "name": "python",
   "nbconvert_exporter": "python",
   "pygments_lexer": "ipython3",
   "version": "3.8.10"
  }
 },
 "nbformat": 4,
 "nbformat_minor": 5
}
