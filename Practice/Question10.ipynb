{
 "cells": [
  {
   "cell_type": "markdown",
   "id": "d253a807",
   "metadata": {},
   "source": [
    "<img src=\"./Images/Practice.jpeg\" alt=\"Practice Image with Red Circle\" style=\"height: 300px; width:300px;\"/>\n",
    "\n",
    "\n",
    "# This is my solution of 10<sup>th</sup> question from follwoing question list \n",
    "\n",
    "[Python 150 question](https://www.w3resource.com/python-exercises/python-basic-exercises.php)"
   ]
  },
  {
   "cell_type": "raw",
   "id": "d9d48a7c",
   "metadata": {},
   "source": [
    "Q10. Write a Python program that accepts an integer (n) and computes the value of n+nn+nnn. \n",
    "Sample value of n is 5\n",
    "Expected Result : 615"
   ]
  },
  {
   "cell_type": "code",
   "execution_count": 1,
   "id": "1f3f3966",
   "metadata": {},
   "outputs": [],
   "source": [
    "#Defining mySolution method\n",
    "def mySolution(num):\n",
    "    result = 0\n",
    "    for i in range(1,4):\n",
    "        result += int(num*i)\n",
    "        \n",
    "    return result"
   ]
  },
  {
   "cell_type": "code",
   "execution_count": 7,
   "id": "30c2642b",
   "metadata": {},
   "outputs": [
    {
     "name": "stdout",
     "output_type": "stream",
     "text": [
      "Enter a number : 5\n"
     ]
    },
    {
     "data": {
      "text/plain": [
       "615"
      ]
     },
     "execution_count": 7,
     "metadata": {},
     "output_type": "execute_result"
    }
   ],
   "source": [
    "#Taking user input\n",
    "num = input('Enter a number : ')\n",
    "#Calling mySolution method\n",
    "result = mySolution(num)\n",
    "result"
   ]
  }
 ],
 "metadata": {
  "kernelspec": {
   "display_name": "Python 3 (ipykernel)",
   "language": "python",
   "name": "python3"
  },
  "language_info": {
   "codemirror_mode": {
    "name": "ipython",
    "version": 3
   },
   "file_extension": ".py",
   "mimetype": "text/x-python",
   "name": "python",
   "nbconvert_exporter": "python",
   "pygments_lexer": "ipython3",
   "version": "3.8.10"
  }
 },
 "nbformat": 4,
 "nbformat_minor": 5
}
