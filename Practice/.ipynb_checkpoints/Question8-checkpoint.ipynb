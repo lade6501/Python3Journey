{
 "cells": [
  {
   "cell_type": "markdown",
   "id": "977a6e2d",
   "metadata": {},
   "source": [
    "<img src=\"./Images/Practice.jpeg\" alt=\"Practice Image with Red Circle\" style=\"height: 300px; width:300px;\"/>\n",
    "\n",
    "\n",
    "# This is my solution of 8<sup>th</sup> question from follwoing question list \n",
    "\n",
    "[Python 150 question](https://www.w3resource.com/python-exercises/python-basic-exercises.php)"
   ]
  },
  {
   "cell_type": "raw",
   "id": "995d5004",
   "metadata": {},
   "source": [
    "Q8. Write a Python program to display the first and last colors from the following list.\n",
    "color_list = [\"Red\",\"Green\",\"White\" ,\"Black\"]"
   ]
  },
  {
   "cell_type": "code",
   "execution_count": 1,
   "id": "2e9595b4",
   "metadata": {},
   "outputs": [],
   "source": [
    "color_list = [\"Red\",\"Green\",\"White\" ,\"Black\"]"
   ]
  },
  {
   "cell_type": "code",
   "execution_count": 4,
   "id": "0fca0ea8",
   "metadata": {},
   "outputs": [
    {
     "name": "stdout",
     "output_type": "stream",
     "text": [
      "First Color :  Red \n",
      "Last Color :  Black\n"
     ]
    }
   ],
   "source": [
    "print('First Color : ',color_list[0],'\\nLast Color : ',color_list[-1])"
   ]
  }
 ],
 "metadata": {
  "kernelspec": {
   "display_name": "Python 3 (ipykernel)",
   "language": "python",
   "name": "python3"
  },
  "language_info": {
   "codemirror_mode": {
    "name": "ipython",
    "version": 3
   },
   "file_extension": ".py",
   "mimetype": "text/x-python",
   "name": "python",
   "nbconvert_exporter": "python",
   "pygments_lexer": "ipython3",
   "version": "3.10.4"
  },
  "varInspector": {
   "cols": {
    "lenName": 16,
    "lenType": 16,
    "lenVar": 40
   },
   "kernels_config": {
    "python": {
     "delete_cmd_postfix": "",
     "delete_cmd_prefix": "del ",
     "library": "var_list.py",
     "varRefreshCmd": "print(var_dic_list())"
    },
    "r": {
     "delete_cmd_postfix": ") ",
     "delete_cmd_prefix": "rm(",
     "library": "var_list.r",
     "varRefreshCmd": "cat(var_dic_list()) "
    }
   },
   "types_to_exclude": [
    "module",
    "function",
    "builtin_function_or_method",
    "instance",
    "_Feature"
   ],
   "window_display": false
  }
 },
 "nbformat": 4,
 "nbformat_minor": 5
}
