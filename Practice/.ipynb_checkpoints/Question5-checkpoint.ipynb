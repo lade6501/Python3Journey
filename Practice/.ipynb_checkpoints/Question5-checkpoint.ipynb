{
 "cells": [
  {
   "cell_type": "markdown",
   "id": "894dee3a",
   "metadata": {},
   "source": [
    "<img src=\"./Images/Practice.jpeg\" alt=\"Practice Image with Red Circle\" style=\"height: 300px; width:300px;\"/>\n",
    "\n",
    "\n",
    "# This is my solution of 5th question from follwoing question list \n",
    "\n",
    "[Python 150 question](https://www.w3resource.com/python-exercises/python-basic-exercises.php)"
   ]
  },
  {
   "cell_type": "raw",
   "id": "d61eaf75",
   "metadata": {},
   "source": [
    "Q5. Write a Python program which accepts the user's first and last name and print them in reverse order with a space between them."
   ]
  },
  {
   "cell_type": "code",
   "execution_count": 1,
   "id": "35862433",
   "metadata": {},
   "outputs": [],
   "source": [
    "#Defmining mySolution method\n",
    "def mySolution():\n",
    "    fname = input('Enter Your First Name : ')\n",
    "    lname = input('Enter Your Last Name : ')\n",
    "    \n",
    "    return (lname + ' ' + fname)"
   ]
  },
  {
   "cell_type": "code",
   "execution_count": 3,
   "id": "dc0e573b",
   "metadata": {},
   "outputs": [
    {
     "name": "stdout",
     "output_type": "stream",
     "text": [
      "Enter Your First Name : Vishal\n",
      "Enter Your Last Name : Lade\n"
     ]
    },
    {
     "data": {
      "text/plain": [
       "'Lade Vishal'"
      ]
     },
     "execution_count": 3,
     "metadata": {},
     "output_type": "execute_result"
    }
   ],
   "source": [
    "#Calling mySolution method\n",
    "name = mySolution()\n",
    "name"
   ]
  }
 ],
 "metadata": {
  "kernelspec": {
   "display_name": "Python 3 (ipykernel)",
   "language": "python",
   "name": "python3"
  },
  "language_info": {
   "codemirror_mode": {
    "name": "ipython",
    "version": 3
   },
   "file_extension": ".py",
   "mimetype": "text/x-python",
   "name": "python",
   "nbconvert_exporter": "python",
   "pygments_lexer": "ipython3",
   "version": "3.10.4"
  },
  "varInspector": {
   "cols": {
    "lenName": 16,
    "lenType": 16,
    "lenVar": 40
   },
   "kernels_config": {
    "python": {
     "delete_cmd_postfix": "",
     "delete_cmd_prefix": "del ",
     "library": "var_list.py",
     "varRefreshCmd": "print(var_dic_list())"
    },
    "r": {
     "delete_cmd_postfix": ") ",
     "delete_cmd_prefix": "rm(",
     "library": "var_list.r",
     "varRefreshCmd": "cat(var_dic_list()) "
    }
   },
   "types_to_exclude": [
    "module",
    "function",
    "builtin_function_or_method",
    "instance",
    "_Feature"
   ],
   "window_display": false
  }
 },
 "nbformat": 4,
 "nbformat_minor": 5
}
