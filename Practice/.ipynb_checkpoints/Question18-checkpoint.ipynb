{
 "cells": [
  {
   "cell_type": "markdown",
   "id": "e8480b36",
   "metadata": {},
   "source": [
    "<img src=\"./Images/PracticeImg.jpg\" alt=\"Practice Image with Red Circle\" style=\"height: 300px; width:300px;\"/>\n",
    "\n",
    "\n",
    "# This is my solution of 18<sup>th</sup> question from follwoing question list \n",
    "\n",
    "[Python 150 question](https://www.w3resource.com/python-exercises/python-basic-exercises.php)"
   ]
  },
  {
   "cell_type": "raw",
   "id": "e2896436",
   "metadata": {},
   "source": [
    "18. Write a Python program to calculate the sum of three given numbers, if the values are equal then return three times of their sum.\n",
    "Example 1:\n",
    "    Suppose three numbers are 5 10 7 then result will be 22 as three numbers are no equal \n",
    "Example 2: \n",
    "    Suppose three numbers are 10 10 10 then result will be 90 as three numbers are equal "
   ]
  },
  {
   "cell_type": "code",
   "execution_count": 6,
   "id": "45719487",
   "metadata": {},
   "outputs": [],
   "source": [
    "#Defining mySolution method\n",
    "def mySolution(first_num,second_num,third_num):\n",
    "    \n",
    "    if (first_num !=second_num and second_num !=third_num):\n",
    "        return (first_num+second_num+third_num)\n",
    "    \n",
    "    return ((first_num+second_num+third_num)*3)\n",
    "    "
   ]
  },
  {
   "cell_type": "code",
   "execution_count": 9,
   "id": "de3a1c67",
   "metadata": {},
   "outputs": [
    {
     "name": "stdout",
     "output_type": "stream",
     "text": [
      "Enter three numbers separated by space : 10 10 10\n"
     ]
    }
   ],
   "source": [
    "#taking user input\n",
    "first_num,second_num,third_num = input('Enter three numbers separated by space : ').split()"
   ]
  },
  {
   "cell_type": "code",
   "execution_count": 10,
   "id": "3bf31967",
   "metadata": {},
   "outputs": [
    {
     "data": {
      "text/plain": [
       "90"
      ]
     },
     "execution_count": 10,
     "metadata": {},
     "output_type": "execute_result"
    }
   ],
   "source": [
    "#Calling mySolution method\n",
    "mySolution(int(first_num),int(second_num),int(third_num))"
   ]
  }
 ],
 "metadata": {
  "kernelspec": {
   "display_name": "Python 3 (ipykernel)",
   "language": "python",
   "name": "python3"
  },
  "language_info": {
   "codemirror_mode": {
    "name": "ipython",
    "version": 3
   },
   "file_extension": ".py",
   "mimetype": "text/x-python",
   "name": "python",
   "nbconvert_exporter": "python",
   "pygments_lexer": "ipython3",
   "version": "3.8.10"
  }
 },
 "nbformat": 4,
 "nbformat_minor": 5
}
