{
 "cells": [
  {
   "cell_type": "markdown",
   "id": "82e615c9",
   "metadata": {},
   "source": [
    "<img src=\"./Images/PracticeImg.jpg\" alt=\"Practice Image with Red Circle\" style=\"height: 300px; width:300px;\"/>\n",
    "\n",
    "\n",
    "# This is my solution of 14<sup>th</sup> question from follwoing question list \n",
    "\n",
    "[Python 150 question](https://www.w3resource.com/python-exercises/python-basic-exercises.php)\n"
   ]
  },
  {
   "cell_type": "raw",
   "id": "a1ae42d3",
   "metadata": {},
   "source": [
    "Q14. Write a Python program to calculate number of days between two dates.\n",
    "Sample dates : (2014, 7, 2), (2014, 7, 11)\n",
    "Expected output : 9 days"
   ]
  },
  {
   "cell_type": "code",
   "execution_count": 1,
   "id": "054866c6",
   "metadata": {},
   "outputs": [],
   "source": [
    "#Importing datetime module\n",
    "import datetime"
   ]
  },
  {
   "cell_type": "code",
   "execution_count": 4,
   "id": "de47d40e",
   "metadata": {},
   "outputs": [],
   "source": [
    "#Defining mySolution method\n",
    "def mySolytion():\n",
    "    first_date = datetime.date(2014, 7, 2)\n",
    "    second_date = datetime.date(2014, 7, 11)\n",
    "    \n",
    "    difference = (second_date-first_date).days\n",
    "    return difference"
   ]
  },
  {
   "cell_type": "code",
   "execution_count": 5,
   "id": "2b577299",
   "metadata": {},
   "outputs": [
    {
     "name": "stdout",
     "output_type": "stream",
     "text": [
      "Expected output : 9\n"
     ]
    }
   ],
   "source": [
    "print(f'Expected output : {mySolytion()}')"
   ]
  }
 ],
 "metadata": {
  "kernelspec": {
   "display_name": "Python 3 (ipykernel)",
   "language": "python",
   "name": "python3"
  },
  "language_info": {
   "codemirror_mode": {
    "name": "ipython",
    "version": 3
   },
   "file_extension": ".py",
   "mimetype": "text/x-python",
   "name": "python",
   "nbconvert_exporter": "python",
   "pygments_lexer": "ipython3",
   "version": "3.8.10"
  }
 },
 "nbformat": 4,
 "nbformat_minor": 5
}
