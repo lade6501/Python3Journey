{
 "cells": [
  {
   "cell_type": "markdown",
   "id": "f16f0e9b",
   "metadata": {},
   "source": [
    "<img src=\"./Images/PracticeImg.jpg\" alt=\"Practice Image with Red Circle\" style=\"height: 300px; width:300px;\"/>\n",
    "\n",
    "\n",
    "# This is my solution of 17<sup>th</sup> question from follwoing question list \n",
    "\n",
    "[Python 150 question](https://www.w3resource.com/python-exercises/python-basic-exercises.php)"
   ]
  },
  {
   "cell_type": "raw",
   "id": "c86943e2",
   "metadata": {},
   "source": [
    "Q17. Write a Python program to test whether a number is within 100 of 1000 or 2000.\n",
    "Print True if it's near to 1000 or 2000 else print False."
   ]
  },
  {
   "cell_type": "code",
   "execution_count": 6,
   "id": "60a3f915",
   "metadata": {},
   "outputs": [],
   "source": [
    "#Defining mySolution method \n",
    "def mySolution(num):\n",
    "    if (abs(1000-num) <=100 or abs(2000-num)<=100):\n",
    "        return True\n",
    "    else:\n",
    "        return False"
   ]
  },
  {
   "cell_type": "code",
   "execution_count": 8,
   "id": "298833db",
   "metadata": {},
   "outputs": [
    {
     "name": "stdout",
     "output_type": "stream",
     "text": [
      "Enter a number : 900\n"
     ]
    },
    {
     "data": {
      "text/plain": [
       "True"
      ]
     },
     "execution_count": 8,
     "metadata": {},
     "output_type": "execute_result"
    }
   ],
   "source": [
    "num = int(input('Enter a number : '))\n",
    "result = mySolution(num)\n",
    "result"
   ]
  }
 ],
 "metadata": {
  "kernelspec": {
   "display_name": "Python 3 (ipykernel)",
   "language": "python",
   "name": "python3"
  },
  "language_info": {
   "codemirror_mode": {
    "name": "ipython",
    "version": 3
   },
   "file_extension": ".py",
   "mimetype": "text/x-python",
   "name": "python",
   "nbconvert_exporter": "python",
   "pygments_lexer": "ipython3",
   "version": "3.8.10"
  }
 },
 "nbformat": 4,
 "nbformat_minor": 5
}
