{
 "cells": [
  {
   "cell_type": "markdown",
   "id": "2158100f",
   "metadata": {},
   "source": [
    "<img src=\"./Images/PracticeImg.jpg\" alt=\"Practice Image with Red Circle\" style=\"height: 300px; width:300px;\"/>\n",
    "\n",
    "\n",
    "# This is my solution of 11<sup>th</sup> question from follwoing question list \n",
    "\n",
    "[Python 150 question](https://www.w3resource.com/python-exercises/python-basic-exercises.php)"
   ]
  },
  {
   "cell_type": "raw",
   "id": "dfb217a6",
   "metadata": {},
   "source": [
    "Q11. Write a Python program to print the documents (syntax, description etc.) of Python built-in function(s).\n",
    "Sample function : abs()\n",
    "Expected Result :\n",
    "abs(number) -> number\n",
    "Return the absolute value of the argument."
   ]
  },
  {
   "cell_type": "code",
   "execution_count": 7,
   "id": "1c4dc452",
   "metadata": {},
   "outputs": [],
   "source": [
    "#Defining mySolution method\n",
    "def mySolution(func):\n",
    "    return func.__doc__"
   ]
  },
  {
   "cell_type": "code",
   "execution_count": 16,
   "id": "66311d25",
   "metadata": {},
   "outputs": [
    {
     "name": "stdout",
     "output_type": "stream",
     "text": [
      "Sample function : abs\n"
     ]
    },
    {
     "data": {
      "text/plain": [
       "'Return the absolute value of the argument.'"
      ]
     },
     "execution_count": 16,
     "metadata": {},
     "output_type": "execute_result"
    }
   ],
   "source": [
    "#Taking sample input from user \n",
    "func = eval(input('Sample function : '))\n",
    "result = mySolution(func)\n",
    "result"
   ]
  }
 ],
 "metadata": {
  "kernelspec": {
   "display_name": "Python 3 (ipykernel)",
   "language": "python",
   "name": "python3"
  },
  "language_info": {
   "codemirror_mode": {
    "name": "ipython",
    "version": 3
   },
   "file_extension": ".py",
   "mimetype": "text/x-python",
   "name": "python",
   "nbconvert_exporter": "python",
   "pygments_lexer": "ipython3",
   "version": "3.8.10"
  }
 },
 "nbformat": 4,
 "nbformat_minor": 5
}
