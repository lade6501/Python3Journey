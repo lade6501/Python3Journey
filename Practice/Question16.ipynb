{
 "cells": [
  {
   "cell_type": "markdown",
   "id": "060c0181",
   "metadata": {},
   "source": [
    "<img src=\"./Images/PracticeImg.jpg\" alt=\"Practice Image with Red Circle\" style=\"height: 300px; width:300px;\"/>\n",
    "\n",
    "\n",
    "# This is my solution of 16<sup>th</sup> question from follwoing question list \n",
    "\n",
    "[Python 150 question](https://www.w3resource.com/python-exercises/python-basic-exercises.php)"
   ]
  },
  {
   "cell_type": "raw",
   "id": "9891c8e3",
   "metadata": {},
   "source": [
    "Q16. Write a Python program to get the difference between a given number and 17, if the number is greater than 17 return double the absolute difference."
   ]
  },
  {
   "cell_type": "code",
   "execution_count": 9,
   "id": "a0fa33a1",
   "metadata": {},
   "outputs": [],
   "source": [
    "#Defining mySolutio method\n",
    "def mySolution(num):\n",
    "    if num > 17:\n",
    "        return (abs(num-17)*2)\n",
    "    return (17-num)\n",
    "    "
   ]
  },
  {
   "cell_type": "code",
   "execution_count": 11,
   "id": "c5fafd32",
   "metadata": {},
   "outputs": [
    {
     "name": "stdout",
     "output_type": "stream",
     "text": [
      "Enter number : 14\n",
      "Expected output : 3\n"
     ]
    }
   ],
   "source": [
    "num = int(input('Enter number : '))\n",
    "result = mySolution(num)\n",
    "print(f'Expected output : {result}')"
   ]
  }
 ],
 "metadata": {
  "kernelspec": {
   "display_name": "Python 3 (ipykernel)",
   "language": "python",
   "name": "python3"
  },
  "language_info": {
   "codemirror_mode": {
    "name": "ipython",
    "version": 3
   },
   "file_extension": ".py",
   "mimetype": "text/x-python",
   "name": "python",
   "nbconvert_exporter": "python",
   "pygments_lexer": "ipython3",
   "version": "3.8.10"
  }
 },
 "nbformat": 4,
 "nbformat_minor": 5
}
