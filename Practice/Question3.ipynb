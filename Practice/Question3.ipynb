{
 "cells": [
  {
   "cell_type": "markdown",
   "id": "a3b60384",
   "metadata": {},
   "source": [
    "<img src=\"./Images/Practice.jpeg\" alt=\"Practice Image with Red Circle\" style=\"height: 300px; width:300px;\"/>\n",
    "\n",
    "\n",
    "# This is my solution of 3rd question from follwoing question list \n",
    "\n",
    "[Python 150 question](https://www.w3resource.com/python-exercises/python-basic-exercises.php)"
   ]
  },
  {
   "cell_type": "raw",
   "id": "98f8ac6b",
   "metadata": {},
   "source": [
    "Q3. Write a Python program to display the current date and time.\n",
    "        Sample Output :\n",
    "        Current date and time :\n",
    "        2014-07-05 14:34:14"
   ]
  },
  {
   "cell_type": "code",
   "execution_count": 19,
   "id": "c6ef5939",
   "metadata": {},
   "outputs": [],
   "source": [
    "#importing datetime module\n",
    "import datetime"
   ]
  },
  {
   "cell_type": "code",
   "execution_count": 20,
   "id": "da371bee",
   "metadata": {},
   "outputs": [],
   "source": [
    "#now method of datetime module return current date and time from specified zone \n",
    "def mySolution():\n",
    "    current_time = datetime.datetime.now()\n",
    "    return (current_time)"
   ]
  },
  {
   "cell_type": "code",
   "execution_count": 21,
   "id": "16e20ade",
   "metadata": {},
   "outputs": [
    {
     "name": "stdout",
     "output_type": "stream",
     "text": [
      "Current date and time :\n",
      "2022-06-02 00:02:19.212870\n"
     ]
    }
   ],
   "source": [
    "print(f'Current date and time :\\n{mySolution()}')"
   ]
  }
 ],
 "metadata": {
  "kernelspec": {
   "display_name": "Python 3 (ipykernel)",
   "language": "python",
   "name": "python3"
  },
  "language_info": {
   "codemirror_mode": {
    "name": "ipython",
    "version": 3
   },
   "file_extension": ".py",
   "mimetype": "text/x-python",
   "name": "python",
   "nbconvert_exporter": "python",
   "pygments_lexer": "ipython3",
   "version": "3.10.4"
  },
  "varInspector": {
   "cols": {
    "lenName": 16,
    "lenType": 16,
    "lenVar": 40
   },
   "kernels_config": {
    "python": {
     "delete_cmd_postfix": "",
     "delete_cmd_prefix": "del ",
     "library": "var_list.py",
     "varRefreshCmd": "print(var_dic_list())"
    },
    "r": {
     "delete_cmd_postfix": ") ",
     "delete_cmd_prefix": "rm(",
     "library": "var_list.r",
     "varRefreshCmd": "cat(var_dic_list()) "
    }
   },
   "types_to_exclude": [
    "module",
    "function",
    "builtin_function_or_method",
    "instance",
    "_Feature"
   ],
   "window_display": false
  }
 },
 "nbformat": 4,
 "nbformat_minor": 5
}
