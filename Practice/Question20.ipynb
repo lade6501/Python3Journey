{
 "cells": [
  {
   "cell_type": "markdown",
   "id": "31f6e97b",
   "metadata": {},
   "source": [
    "<img src=\"./Images/PracticeImg.jpg\" alt=\"Practice Image with Red Circle\" style=\"height: 300px; width:300px;\"/>\n",
    "\n",
    "\n",
    "# This is my solution of 20<sup>th</sup> question from follwoing question list \n",
    "\n",
    "[Python 150 question](https://www.w3resource.com/python-exercises/python-basic-exercises.php)"
   ]
  },
  {
   "cell_type": "raw",
   "id": "2cd75a79",
   "metadata": {},
   "source": [
    "Q20. Write a Python program to get a string which is n (non-negative integer) copies of a given string.\n",
    "Example \n",
    "Sample String : Hello\n",
    "Sample Number : 3\n",
    "Expected Result : HelloHelloHello"
   ]
  },
  {
   "cell_type": "code",
   "execution_count": 4,
   "id": "d5d7d96d",
   "metadata": {},
   "outputs": [],
   "source": [
    "#Defining mySolution method \n",
    "def mySolution(string,number):\n",
    "    if number <= 0:\n",
    "        return 'Enter valid Number'\n",
    "    return (string*number)    "
   ]
  },
  {
   "cell_type": "code",
   "execution_count": 6,
   "id": "d0e0fc7a",
   "metadata": {},
   "outputs": [
    {
     "name": "stdout",
     "output_type": "stream",
     "text": [
      "Sample String : Hello\n",
      "Sample Number : 3\n",
      "Expected Result : HelloHelloHello\n"
     ]
    }
   ],
   "source": [
    "string = input('Sample String : ')\n",
    "number = int(input('Sample Number : '))\n",
    "result = mySolution(string,number)\n",
    "print(f'Expected Result : {result}')"
   ]
  }
 ],
 "metadata": {
  "kernelspec": {
   "display_name": "Python 3 (ipykernel)",
   "language": "python",
   "name": "python3"
  },
  "language_info": {
   "codemirror_mode": {
    "name": "ipython",
    "version": 3
   },
   "file_extension": ".py",
   "mimetype": "text/x-python",
   "name": "python",
   "nbconvert_exporter": "python",
   "pygments_lexer": "ipython3",
   "version": "3.8.10"
  }
 },
 "nbformat": 4,
 "nbformat_minor": 5
}
