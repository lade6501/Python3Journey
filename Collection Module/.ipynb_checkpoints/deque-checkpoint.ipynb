{
 "cells": [
  {
   "cell_type": "markdown",
   "id": "5d6585bf",
   "metadata": {},
   "source": [
    "# Syntax example"
   ]
  },
  {
   "cell_type": "code",
   "execution_count": 12,
   "id": "d0e4987e",
   "metadata": {},
   "outputs": [],
   "source": [
    "#Syntax \n",
    "#variable_name = deque(iterable[,maxlen])"
   ]
  },
  {
   "cell_type": "code",
   "execution_count": 13,
   "id": "72ce892c",
   "metadata": {},
   "outputs": [],
   "source": [
    "#importing deque from collections module\n",
    "from collections import deque"
   ]
  },
  {
   "cell_type": "code",
   "execution_count": 14,
   "id": "c6bc8404",
   "metadata": {},
   "outputs": [
    {
     "data": {
      "text/plain": [
       "deque(['V', 'i', 's', 'h', 'a', 'l'])"
      ]
     },
     "execution_count": 14,
     "metadata": {},
     "output_type": "execute_result"
    }
   ],
   "source": [
    "#creating a normal deque without maxlen attribute\n",
    "name = deque('Vishal')\n",
    "name"
   ]
  },
  {
   "cell_type": "code",
   "execution_count": 15,
   "id": "6fe334bc",
   "metadata": {},
   "outputs": [
    {
     "data": {
      "text/plain": [
       "deque(['n', 'g', 'o'])"
      ]
     },
     "execution_count": 15,
     "metadata": {},
     "output_type": "execute_result"
    }
   ],
   "source": [
    "#creating a deque with maxlen attribute \n",
    "fruit_name = deque('Mango',3)\n",
    "fruit_name"
   ]
  },
  {
   "cell_type": "raw",
   "id": "b1a1ec2d",
   "metadata": {},
   "source": [
    "As you can see from above example that deque operates from right to left"
   ]
  },
  {
   "cell_type": "markdown",
   "id": "039a7548",
   "metadata": {},
   "source": [
    "## Some common methods of deque"
   ]
  },
  {
   "cell_type": "code",
   "execution_count": 25,
   "id": "b9a541d4",
   "metadata": {},
   "outputs": [
    {
     "data": {
      "text/plain": [
       "deque(['Master', 'V', 'i', 's', 'h', 'a', 'l', 'Lade', 'Lade'])"
      ]
     },
     "execution_count": 25,
     "metadata": {},
     "output_type": "execute_result"
    }
   ],
   "source": [
    "#append() method - it add elemt add the end of deque\n",
    "name.append('Lade')\n",
    "name"
   ]
  },
  {
   "cell_type": "code",
   "execution_count": 26,
   "id": "d3780362",
   "metadata": {},
   "outputs": [
    {
     "data": {
      "text/plain": [
       "deque(['Master', 'Master', 'V', 'i', 's', 'h', 'a', 'l', 'Lade', 'Lade'])"
      ]
     },
     "execution_count": 26,
     "metadata": {},
     "output_type": "execute_result"
    }
   ],
   "source": [
    "#appendleft() method - it add elemt at the start of deque\n",
    "name.appendleft('Master')\n",
    "name"
   ]
  },
  {
   "cell_type": "code",
   "execution_count": 27,
   "id": "03a92ea4",
   "metadata": {},
   "outputs": [
    {
     "data": {
      "text/plain": [
       "deque(['Master', 'Master', 'V', 'i', 's', 'h', 'a', 'l', 'Lade'])"
      ]
     },
     "execution_count": 27,
     "metadata": {},
     "output_type": "execute_result"
    }
   ],
   "source": [
    "#pop() - it removes elemt from the end of deque\n",
    "name.pop()\n",
    "name"
   ]
  },
  {
   "cell_type": "code",
   "execution_count": 28,
   "id": "8e7e5458",
   "metadata": {},
   "outputs": [
    {
     "data": {
      "text/plain": [
       "'Master'"
      ]
     },
     "execution_count": 28,
     "metadata": {},
     "output_type": "execute_result"
    }
   ],
   "source": [
    "#popleft() - it removes elemt from the start of deque\n",
    "name.popleft()"
   ]
  },
  {
   "cell_type": "code",
   "execution_count": 29,
   "id": "c1b1f896",
   "metadata": {},
   "outputs": [
    {
     "data": {
      "text/plain": [
       "deque(['Master', 'V', 'i', 's', 'h', 'a', 'l', 'Lade'])"
      ]
     },
     "execution_count": 29,
     "metadata": {},
     "output_type": "execute_result"
    }
   ],
   "source": [
    "name"
   ]
  },
  {
   "cell_type": "code",
   "execution_count": 35,
   "id": "bad3857f",
   "metadata": {},
   "outputs": [
    {
     "data": {
      "text/plain": [
       "0"
      ]
     },
     "execution_count": 35,
     "metadata": {},
     "output_type": "execute_result"
    }
   ],
   "source": [
    "# count() and clear() methods \n",
    "# count() - it return occurance count of passed value in deque \n",
    "name.count('l')\n",
    "\n",
    "# clear() - it clears the deques and size of deque becomes 0\n",
    "name.clear()\n",
    "len(name)"
   ]
  },
  {
   "cell_type": "code",
   "execution_count": null,
   "id": "6bc2d3e1",
   "metadata": {},
   "outputs": [],
   "source": []
  }
 ],
 "metadata": {
  "kernelspec": {
   "display_name": "Python 3 (ipykernel)",
   "language": "python",
   "name": "python3"
  },
  "language_info": {
   "codemirror_mode": {
    "name": "ipython",
    "version": 3
   },
   "file_extension": ".py",
   "mimetype": "text/x-python",
   "name": "python",
   "nbconvert_exporter": "python",
   "pygments_lexer": "ipython3",
   "version": "3.10.4"
  },
  "varInspector": {
   "cols": {
    "lenName": 16,
    "lenType": 16,
    "lenVar": 40
   },
   "kernels_config": {
    "python": {
     "delete_cmd_postfix": "",
     "delete_cmd_prefix": "del ",
     "library": "var_list.py",
     "varRefreshCmd": "print(var_dic_list())"
    },
    "r": {
     "delete_cmd_postfix": ") ",
     "delete_cmd_prefix": "rm(",
     "library": "var_list.r",
     "varRefreshCmd": "cat(var_dic_list()) "
    }
   },
   "types_to_exclude": [
    "module",
    "function",
    "builtin_function_or_method",
    "instance",
    "_Feature"
   ],
   "window_display": false
  }
 },
 "nbformat": 4,
 "nbformat_minor": 5
}
