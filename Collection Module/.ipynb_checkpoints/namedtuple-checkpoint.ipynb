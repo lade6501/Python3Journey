{
 "cells": [
  {
   "cell_type": "markdown",
   "metadata": {},
   "source": [
    "# Syntax for namedtuple"
   ]
  },
  {
   "cell_type": "code",
   "execution_count": 2,
   "metadata": {},
   "outputs": [],
   "source": [
    "#Importing namedtuple from collections module\n",
    "from collections import namedtuple"
   ]
  },
  {
   "cell_type": "code",
   "execution_count": 3,
   "metadata": {},
   "outputs": [],
   "source": [
    "#Creating a named tuple \n",
    "course = namedtuple('Course','course1,course2,course3')"
   ]
  },
  {
   "cell_type": "code",
   "execution_count": 4,
   "metadata": {},
   "outputs": [],
   "source": [
    "#adding values to named tuple namespace object\n",
    "ui_course = course('HTML','CSS','React')"
   ]
  },
  {
   "cell_type": "code",
   "execution_count": 5,
   "metadata": {},
   "outputs": [
    {
     "name": "stdout",
     "output_type": "stream",
     "text": [
      "Course(course1='HTML', course2='CSS', course3='React')\n"
     ]
    }
   ],
   "source": [
    "print(ui_course)"
   ]
  },
  {
   "cell_type": "markdown",
   "metadata": {},
   "source": [
    "# Practicle approach"
   ]
  },
  {
   "cell_type": "markdown",
   "metadata": {},
   "source": [
    "Calculating Students total marks and assignig grades based on their percentage.\n",
    "In this approach I'm using namedtuple to create a Student namespace.\n",
    "RollNO, Name, MarksInMath, MarksInScience, MarksInCS are the fileds \n",
    "required for calculating students total marks and grades."
   ]
  },
  {
   "cell_type": "code",
   "execution_count": 70,
   "metadata": {},
   "outputs": [],
   "source": [
    "#Creating a Student namespace\n",
    "Students = namedtuple('Student',['Roll_No','Name', 'Marks', 'Percentage', 'Grad'], defaults=[0,''])\n",
    "marks = namedtuple('Marks','Maths Science ComputerScience totalMarks',defaults=[0])"
   ]
  },
  {
   "cell_type": "code",
   "execution_count": 71,
   "metadata": {},
   "outputs": [
    {
     "data": {
      "text/plain": [
       "{'Percentage': 0, 'Grad': ''}"
      ]
     },
     "execution_count": 71,
     "metadata": {},
     "output_type": "execute_result"
    }
   ],
   "source": [
    "#Checking how many fields Students have\n",
    "Students._field_defaults"
   ]
  },
  {
   "cell_type": "code",
   "execution_count": 72,
   "metadata": {},
   "outputs": [
    {
     "data": {
      "text/plain": [
       "[Student(Roll_No=101, Name='Ram Lodhe', Marks=Marks(Maths=95, Science=88, ComputerScience=98, totalMarks=0), Percentage=0, Grad=''),\n",
       " Student(Roll_No=101, Name='Shyam Verma', Marks=Marks(Maths=65, Science=88, ComputerScience=85, totalMarks=0), Percentage=0, Grad=''),\n",
       " Student(Roll_No=101, Name='Geeta Laxmi', Marks=Marks(Maths=86, Science=90, ComputerScience=60, totalMarks=0), Percentage=0, Grad=''),\n",
       " Student(Roll_No=101, Name='Venkat Iyer', Marks=Marks(Maths=55, Science=75, ComputerScience=68, totalMarks=0), Percentage=0, Grad=''),\n",
       " Student(Roll_No=101, Name='Anikta Gushe', Marks=Marks(Maths=88, Science=90, ComputerScience=98, totalMarks=0), Percentage=0, Grad='')]"
      ]
     },
     "execution_count": 72,
     "metadata": {},
     "output_type": "execute_result"
    }
   ],
   "source": [
    "#Creating students\n",
    "ram = Students._make([101,'Ram Lodhe',marks(95,88,98),*Students._field_defaults.values()])\n",
    "shaym = Students._make([101,'Shyam Verma',marks(65,88,85),*Students._field_defaults.values()])\n",
    "geeta = Students._make([101,'Geeta Laxmi',marks(86,90,60),*Students._field_defaults.values()])\n",
    "venkat = Students._make([101,'Venkat Iyer',marks(55,75,68),*Students._field_defaults.values()])\n",
    "ankita = Students._make([101,'Anikta Gushe',marks(88,90,98),*Students._field_defaults.values()])\n",
    "\n",
    "#Creatig list of students from above namedtuples \n",
    "students = [ram,shaym,geeta,venkat,ankita]\n",
    "students"
   ]
  },
  {
   "cell_type": "code",
   "execution_count": 98,
   "metadata": {},
   "outputs": [],
   "source": [
    "# Claculating total marks with help of Marks namedtuple\n",
    "def getTotalMarks(marks):\n",
    "    total = 0\n",
    "    for i in range(0,len(marks)-1):\n",
    "        total += marks[i]\n",
    "    return total"
   ]
  },
  {
   "cell_type": "code",
   "execution_count": 99,
   "metadata": {},
   "outputs": [],
   "source": [
    "#Calculating the total marks and appending to namedtuple of particular student\n",
    "def appendTotalMarks(students):\n",
    "    for i in range(0,len(students)):\n",
    "        student = students[i]\n",
    "        total = getTotalMarks(student.Marks)\n",
    "        students[i] = student._replace(Marks=student.Marks._replace(totalMarks=total))"
   ]
  },
  {
   "cell_type": "code",
   "execution_count": 100,
   "metadata": {},
   "outputs": [
    {
     "data": {
      "text/plain": [
       "[Student(Roll_No=101, Name='Ram Lodhe', Marks=Marks(Maths=95, Science=88, ComputerScience=98, totalMarks=281), Percentage=0, Grad=''),\n",
       " Student(Roll_No=101, Name='Shyam Verma', Marks=Marks(Maths=65, Science=88, ComputerScience=85, totalMarks=238), Percentage=0, Grad=''),\n",
       " Student(Roll_No=101, Name='Geeta Laxmi', Marks=Marks(Maths=86, Science=90, ComputerScience=60, totalMarks=236), Percentage=0, Grad=''),\n",
       " Student(Roll_No=101, Name='Venkat Iyer', Marks=Marks(Maths=55, Science=75, ComputerScience=68, totalMarks=198), Percentage=0, Grad=''),\n",
       " Student(Roll_No=101, Name='Anikta Gushe', Marks=Marks(Maths=88, Science=90, ComputerScience=98, totalMarks=276), Percentage=0, Grad='')]"
      ]
     },
     "execution_count": 100,
     "metadata": {},
     "output_type": "execute_result"
    }
   ],
   "source": [
    "appendTotalMarks(students)\n",
    "students"
   ]
  },
  {
   "cell_type": "code",
   "execution_count": 104,
   "metadata": {},
   "outputs": [],
   "source": [
    "#Calculating percentage \n",
    "def calculatePercentage(marks):\n",
    "    percentage = (marks.totalMarks)/(len(marks)-1)\n",
    "    return round(percentage,2)"
   ]
  },
  {
   "cell_type": "code",
   "execution_count": 105,
   "metadata": {},
   "outputs": [],
   "source": [
    "#Calculating the percenateg and appending to namedtuple of particular student\n",
    "def appendPercentage(students):\n",
    "    for i in range(0,len(students)):\n",
    "        student = students[i]\n",
    "        percentage = calculatePercentage(student.Marks)\n",
    "        students[i] = student._replace(Percentage=percentage)"
   ]
  },
  {
   "cell_type": "code",
   "execution_count": 106,
   "metadata": {},
   "outputs": [
    {
     "data": {
      "text/plain": [
       "[Student(Roll_No=101, Name='Ram Lodhe', Marks=Marks(Maths=95, Science=88, ComputerScience=98, totalMarks=281), Percentage=93.67, Grad=''),\n",
       " Student(Roll_No=101, Name='Shyam Verma', Marks=Marks(Maths=65, Science=88, ComputerScience=85, totalMarks=238), Percentage=79.33, Grad=''),\n",
       " Student(Roll_No=101, Name='Geeta Laxmi', Marks=Marks(Maths=86, Science=90, ComputerScience=60, totalMarks=236), Percentage=78.67, Grad=''),\n",
       " Student(Roll_No=101, Name='Venkat Iyer', Marks=Marks(Maths=55, Science=75, ComputerScience=68, totalMarks=198), Percentage=66.0, Grad=''),\n",
       " Student(Roll_No=101, Name='Anikta Gushe', Marks=Marks(Maths=88, Science=90, ComputerScience=98, totalMarks=276), Percentage=92.0, Grad='')]"
      ]
     },
     "execution_count": 106,
     "metadata": {},
     "output_type": "execute_result"
    }
   ],
   "source": [
    "appendPercentage(students)\n",
    "students"
   ]
  },
  {
   "cell_type": "code",
   "execution_count": null,
   "metadata": {},
   "outputs": [],
   "source": [
    "\n",
    "    "
   ]
  }
 ],
 "metadata": {
  "interpreter": {
   "hash": "916dbcbb3f70747c44a77c7bcd40155683ae19c65e1c03b4aa3499c5328201f1"
  },
  "kernelspec": {
   "display_name": "Python 3 (ipykernel)",
   "language": "python",
   "name": "python3"
  },
  "language_info": {
   "codemirror_mode": {
    "name": "ipython",
    "version": 3
   },
   "file_extension": ".py",
   "mimetype": "text/x-python",
   "name": "python",
   "nbconvert_exporter": "python",
   "pygments_lexer": "ipython3",
   "version": "3.10.4"
  },
  "varInspector": {
   "cols": {
    "lenName": 16,
    "lenType": 16,
    "lenVar": 40
   },
   "kernels_config": {
    "python": {
     "delete_cmd_postfix": "",
     "delete_cmd_prefix": "del ",
     "library": "var_list.py",
     "varRefreshCmd": "print(var_dic_list())"
    },
    "r": {
     "delete_cmd_postfix": ") ",
     "delete_cmd_prefix": "rm(",
     "library": "var_list.r",
     "varRefreshCmd": "cat(var_dic_list()) "
    }
   },
   "types_to_exclude": [
    "module",
    "function",
    "builtin_function_or_method",
    "instance",
    "_Feature"
   ],
   "window_display": false
  }
 },
 "nbformat": 4,
 "nbformat_minor": 2
}
