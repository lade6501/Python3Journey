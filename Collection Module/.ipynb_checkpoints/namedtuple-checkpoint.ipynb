{
 "cells": [
  {
   "cell_type": "markdown",
   "metadata": {},
   "source": [
    "# Syntax for namedtuple"
   ]
  },
  {
   "cell_type": "code",
   "execution_count": 22,
   "metadata": {},
   "outputs": [],
   "source": [
    "#Importing namedtuple from collections module\n",
    "from collections import namedtuple"
   ]
  },
  {
   "cell_type": "code",
   "execution_count": 23,
   "metadata": {},
   "outputs": [],
   "source": [
    "#Creating a named tuple \n",
    "course = namedtuple('Course','course1,course2,course3')"
   ]
  },
  {
   "cell_type": "code",
   "execution_count": 24,
   "metadata": {},
   "outputs": [],
   "source": [
    "#adding values to named tuple namespace object\n",
    "ui_course = course('HTML','CSS','React')"
   ]
  },
  {
   "cell_type": "code",
   "execution_count": 25,
   "metadata": {},
   "outputs": [
    {
     "name": "stdout",
     "output_type": "stream",
     "text": [
      "Course(course1='HTML', course2='CSS', course3='React')\n"
     ]
    }
   ],
   "source": [
    "print(ui_course)"
   ]
  },
  {
   "cell_type": "markdown",
   "metadata": {},
   "source": [
    "# Practicle approach"
   ]
  },
  {
   "cell_type": "markdown",
   "metadata": {},
   "source": [
    "Calculating Students total marks and assignig grades based on their percentage.\n",
    "In this approach I'm using namedtuple to create a Student namespace.\n",
    "RollNO, Name, MarksInMath, MarksInScience, MarksInCS are the fileds \n",
    "required for calculating students total marks and grades."
   ]
  },
  {
   "cell_type": "code",
   "execution_count": 26,
   "metadata": {},
   "outputs": [],
   "source": [
    "#Creating a Student namespace\n",
    "Students = namedtuple('Student',['Roll_No','Name', 'Marks', 'Percentage', 'Grade'], defaults=[0,''])\n",
    "marks = namedtuple('Marks','Maths Science ComputerScience totalMarks',defaults=[0])"
   ]
  },
  {
   "cell_type": "code",
   "execution_count": 27,
   "metadata": {},
   "outputs": [
    {
     "data": {
      "text/plain": [
       "{'Percentage': 0, 'Grade': ''}"
      ]
     },
     "execution_count": 27,
     "metadata": {},
     "output_type": "execute_result"
    }
   ],
   "source": [
    "#Checking how many fields Students have\n",
    "Students._field_defaults"
   ]
  },
  {
   "cell_type": "code",
   "execution_count": 28,
   "metadata": {},
   "outputs": [
    {
     "data": {
      "text/plain": [
       "[Student(Roll_No=101, Name='Ram Lodhe', Marks=Marks(Maths=95, Science=88, ComputerScience=98, totalMarks=0), Percentage=0, Grade=''),\n",
       " Student(Roll_No=101, Name='Shyam Verma', Marks=Marks(Maths=65, Science=88, ComputerScience=85, totalMarks=0), Percentage=0, Grade=''),\n",
       " Student(Roll_No=101, Name='Geeta Laxmi', Marks=Marks(Maths=86, Science=90, ComputerScience=60, totalMarks=0), Percentage=0, Grade=''),\n",
       " Student(Roll_No=101, Name='Venkat Iyer', Marks=Marks(Maths=55, Science=75, ComputerScience=68, totalMarks=0), Percentage=0, Grade=''),\n",
       " Student(Roll_No=101, Name='Anikta Gushe', Marks=Marks(Maths=88, Science=90, ComputerScience=98, totalMarks=0), Percentage=0, Grade='')]"
      ]
     },
     "execution_count": 28,
     "metadata": {},
     "output_type": "execute_result"
    }
   ],
   "source": [
    "#Creating students\n",
    "ram = Students._make([101,'Ram Lodhe',marks(95,88,98),*Students._field_defaults.values()])\n",
    "shaym = Students._make([101,'Shyam Verma',marks(65,88,85),*Students._field_defaults.values()])\n",
    "geeta = Students._make([101,'Geeta Laxmi',marks(86,90,60),*Students._field_defaults.values()])\n",
    "venkat = Students._make([101,'Venkat Iyer',marks(55,75,68),*Students._field_defaults.values()])\n",
    "ankita = Students._make([101,'Anikta Gushe',marks(88,90,98),*Students._field_defaults.values()])\n",
    "\n",
    "#Creatig list of students from above namedtuples \n",
    "students = [ram,shaym,geeta,venkat,ankita]\n",
    "students"
   ]
  },
  {
   "cell_type": "code",
   "execution_count": 29,
   "metadata": {},
   "outputs": [],
   "source": [
    "# Claculating total marks with help of Marks namedtuple\n",
    "def getTotalMarks(marks):\n",
    "    total = 0\n",
    "    for i in range(0,len(marks)-1):\n",
    "        total += marks[i]\n",
    "    return total"
   ]
  },
  {
   "cell_type": "code",
   "execution_count": 31,
   "metadata": {},
   "outputs": [],
   "source": [
    "#Calculating percentage \n",
    "def calculatePercentage(marks):\n",
    "    percentage = (marks.totalMarks)/(len(marks)-1)\n",
    "    return round(percentage,2)"
   ]
  },
  {
   "cell_type": "code",
   "execution_count": 33,
   "metadata": {},
   "outputs": [],
   "source": [
    "#Assining Gard to student based on ther percentagee\n",
    "def assignGrade(percentage):\n",
    "    grade = ''\n",
    "    if percentage >= 90:\n",
    "        grade = 'A+'\n",
    "    elif percentage >= 80 and percentage < 90:\n",
    "        grade = 'A'\n",
    "    elif percentage >= 70 and percentage < 80:\n",
    "        grade = 'B+'\n",
    "    elif percentage >= 60 and percentage < 70:\n",
    "        grade = 'B'\n",
    "    elif percentage >= 50 and percentage < 60:\n",
    "        grade = 'C'\n",
    "    elif percentage >= 35 and percentage < 50:\n",
    "        grade = 'D'\n",
    "    else: \n",
    "        grade = ''\n",
    "    \n",
    "    return grade\n",
    "        \n",
    "    "
   ]
  },
  {
   "cell_type": "code",
   "execution_count": 30,
   "metadata": {},
   "outputs": [],
   "source": [
    "#Calculating the total marks and appending to namedtuple of particular student\n",
    "def appendTotalMarks(students):\n",
    "    for i in range(0,len(students)):\n",
    "        student = students[i]\n",
    "        total = getTotalMarks(student.Marks)\n",
    "        students[i] = student._replace(Marks=student.Marks._replace(totalMarks=total))"
   ]
  },
  {
   "cell_type": "code",
   "execution_count": 32,
   "metadata": {},
   "outputs": [],
   "source": [
    "#Calculating the percenateg and appending to namedtuple of particular student\n",
    "def appendPercentage(students):\n",
    "    for i in range(0,len(students)):\n",
    "        student = students[i]\n",
    "        percentage = calculatePercentage(student.Marks)\n",
    "        students[i] = student._replace(Percentage=percentage)"
   ]
  },
  {
   "cell_type": "code",
   "execution_count": 34,
   "metadata": {},
   "outputs": [],
   "source": [
    "# Appendig Grad for students\n",
    "def appendGrade(students):\n",
    "    for i in range(0,len(students)):\n",
    "        student = students[i]\n",
    "        grade = assignGrade(student.Percentage)\n",
    "        students[i] = student._replace(Grade=grade)"
   ]
  },
  {
   "cell_type": "code",
   "execution_count": 35,
   "metadata": {},
   "outputs": [],
   "source": [
    "appendTotalMarks(students)\n",
    "appendPercentage(students)\n",
    "appendGrade(students)"
   ]
  },
  {
   "cell_type": "code",
   "execution_count": 47,
   "metadata": {},
   "outputs": [
    {
     "name": "stdout",
     "output_type": "stream",
     "text": [
      "\t\t\t\t\tStudents Report\n",
      "Roll Number\t\tName\t\tTotal Mars\t\tPercentage\t\tGrade\n",
      "101\t\t\tRam Lodhe\t\t281\t\t93.67\t\t\tA+\n",
      "101\t\t\tShyam Verma\t\t238\t\t79.33\t\t\tB+\n",
      "101\t\t\tGeeta Laxmi\t\t236\t\t78.67\t\t\tB+\n",
      "101\t\t\tVenkat Iyer\t\t198\t\t66.0\t\t\tB\n",
      "101\t\t\tAnikta Gushe\t\t276\t\t92.0\t\t\tA+\n"
     ]
    }
   ],
   "source": [
    "print('\\t\\t\\t\\t\\tStudents Report')\n",
    "print('Roll Number\\t\\tName\\t\\tTotal Mars\\t\\tPercentage\\t\\tGrade')\n",
    "for student in students:\n",
    "    print(f'{student.Roll_No}\\t\\t\\t{student.Name}\\t\\t{student.Marks.totalMarks}\\t\\t{student.Percentage}\\t\\t\\t{student.Grade}')"
   ]
  }
 ],
 "metadata": {
  "interpreter": {
   "hash": "916dbcbb3f70747c44a77c7bcd40155683ae19c65e1c03b4aa3499c5328201f1"
  },
  "kernelspec": {
   "display_name": "Python 3 (ipykernel)",
   "language": "python",
   "name": "python3"
  },
  "language_info": {
   "codemirror_mode": {
    "name": "ipython",
    "version": 3
   },
   "file_extension": ".py",
   "mimetype": "text/x-python",
   "name": "python",
   "nbconvert_exporter": "python",
   "pygments_lexer": "ipython3",
   "version": "3.10.4"
  },
  "varInspector": {
   "cols": {
    "lenName": 16,
    "lenType": 16,
    "lenVar": 40
   },
   "kernels_config": {
    "python": {
     "delete_cmd_postfix": "",
     "delete_cmd_prefix": "del ",
     "library": "var_list.py",
     "varRefreshCmd": "print(var_dic_list())"
    },
    "r": {
     "delete_cmd_postfix": ") ",
     "delete_cmd_prefix": "rm(",
     "library": "var_list.r",
     "varRefreshCmd": "cat(var_dic_list()) "
    }
   },
   "types_to_exclude": [
    "module",
    "function",
    "builtin_function_or_method",
    "instance",
    "_Feature"
   ],
   "window_display": false
  }
 },
 "nbformat": 4,
 "nbformat_minor": 2
}
