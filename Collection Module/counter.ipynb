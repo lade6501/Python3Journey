{
 "cells": [
  {
   "cell_type": "markdown",
   "id": "fada30ea",
   "metadata": {},
   "source": [
    "# Syntax example\n"
   ]
  },
  {
   "cell_type": "code",
   "execution_count": 45,
   "id": "966426e9",
   "metadata": {},
   "outputs": [],
   "source": [
    "#Importing Counter from collections module \n",
    "from collections import Counter"
   ]
  },
  {
   "cell_type": "code",
   "execution_count": 46,
   "id": "0195acfd",
   "metadata": {},
   "outputs": [
    {
     "data": {
      "text/plain": [
       "Counter({'apple': 3, 'banana': 1, 'orange': 2, 'mango': 1})"
      ]
     },
     "execution_count": 46,
     "metadata": {},
     "output_type": "execute_result"
    }
   ],
   "source": [
    "#Creating a words list and feeding it to Counter() class\n",
    "words = ['apple', 'banana', 'orange','apple', 'mango', 'orange', 'apple']\n",
    "word_count = Counter(words)\n",
    "word_count"
   ]
  },
  {
   "cell_type": "markdown",
   "id": "3bc76df1",
   "metadata": {},
   "source": [
    "## Some  common attributes of Counter() class"
   ]
  },
  {
   "cell_type": "code",
   "execution_count": 47,
   "id": "5b90a0ac",
   "metadata": {},
   "outputs": [
    {
     "data": {
      "text/plain": [
       "['apple', 'apple', 'apple', 'banana', 'mango', 'orange', 'orange']"
      ]
     },
     "execution_count": 47,
     "metadata": {},
     "output_type": "execute_result"
    }
   ],
   "source": [
    "#elements attribute\n",
    "sorted(word_count.elements())"
   ]
  },
  {
   "cell_type": "code",
   "execution_count": 48,
   "id": "678be160",
   "metadata": {},
   "outputs": [
    {
     "data": {
      "text/plain": [
       "[('apple', 3), ('orange', 2)]"
      ]
     },
     "execution_count": 48,
     "metadata": {},
     "output_type": "execute_result"
    }
   ],
   "source": [
    "#most_common attribute\n",
    "#This attribute returns a list of n most common elements \n",
    "word_count.most_common(2)"
   ]
  },
  {
   "cell_type": "code",
   "execution_count": 49,
   "id": "3e5e546f",
   "metadata": {},
   "outputs": [
    {
     "data": {
      "text/plain": [
       "dict_values"
      ]
     },
     "execution_count": 49,
     "metadata": {},
     "output_type": "execute_result"
    }
   ],
   "source": [
    "#values attribute \n",
    "type(word_count.values())"
   ]
  },
  {
   "cell_type": "markdown",
   "id": "b04d0205",
   "metadata": {},
   "source": [
    "# Practical approach\n"
   ]
  },
  {
   "cell_type": "raw",
   "id": "7fbe9623",
   "metadata": {},
   "source": [
    "Using Counter() to find out if list contains all the 26 characters from alphabets or not \n",
    "it will return True if all characters are present or it will False if all characters are not present.\n",
    "\n",
    "I know the simplest appraoch is to convert the list into set and check if it's length is equal to 26.\n",
    "But for learning I'm using Counter() class."
   ]
  },
  {
   "cell_type": "code",
   "execution_count": 50,
   "id": "12a95d07",
   "metadata": {},
   "outputs": [
    {
     "data": {
      "text/plain": [
       "26"
      ]
     },
     "execution_count": 50,
     "metadata": {},
     "output_type": "execute_result"
    }
   ],
   "source": [
    "#Generating list of all characters with help of list comprehension \n",
    "list_with_all_chars = [chr(char) for char in range(97,123) ]\n",
    "len(list_with_all_chars)"
   ]
  },
  {
   "cell_type": "code",
   "execution_count": 51,
   "id": "9f88a3f6",
   "metadata": {},
   "outputs": [
    {
     "data": {
      "text/plain": [
       "24"
      ]
     },
     "execution_count": 51,
     "metadata": {},
     "output_type": "execute_result"
    }
   ],
   "source": [
    "#Generating list of all characters with help of list comprehension \n",
    "list_without_all_chars = [chr(char) for char in range(97,123) if char not in [101,115] ]\n",
    "len(list_without_all_chars)"
   ]
  },
  {
   "cell_type": "code",
   "execution_count": 52,
   "id": "a41c4527",
   "metadata": {},
   "outputs": [],
   "source": [
    "#Creating a method to check if all characters are present or not\n",
    "def checkIfAllCharsPresent(char_list):\n",
    "    chars_counter = Counter(char_list)\n",
    "    if len(chars_counter) == 26:\n",
    "        return True\n",
    "    else:\n",
    "        return False"
   ]
  },
  {
   "cell_type": "code",
   "execution_count": 53,
   "id": "132cbc3d",
   "metadata": {},
   "outputs": [
    {
     "data": {
      "text/plain": [
       "True"
      ]
     },
     "execution_count": 53,
     "metadata": {},
     "output_type": "execute_result"
    }
   ],
   "source": [
    "#Validating  if above method is working as expected or not\n",
    "checkIfAllCharsPresent(list_with_all_chars)"
   ]
  },
  {
   "cell_type": "code",
   "execution_count": 54,
   "id": "bf0055cc",
   "metadata": {},
   "outputs": [
    {
     "data": {
      "text/plain": [
       "False"
      ]
     },
     "execution_count": 54,
     "metadata": {},
     "output_type": "execute_result"
    }
   ],
   "source": [
    "#Validating  if above method is working as expected or not\n",
    "checkIfAllCharsPresent(list_without_all_chars)"
   ]
  }
 ],
 "metadata": {
  "kernelspec": {
   "display_name": "Python 3 (ipykernel)",
   "language": "python",
   "name": "python3"
  },
  "language_info": {
   "codemirror_mode": {
    "name": "ipython",
    "version": 3
   },
   "file_extension": ".py",
   "mimetype": "text/x-python",
   "name": "python",
   "nbconvert_exporter": "python",
   "pygments_lexer": "ipython3",
   "version": "3.10.4"
  },
  "varInspector": {
   "cols": {
    "lenName": 16,
    "lenType": 16,
    "lenVar": 40
   },
   "kernels_config": {
    "python": {
     "delete_cmd_postfix": "",
     "delete_cmd_prefix": "del ",
     "library": "var_list.py",
     "varRefreshCmd": "print(var_dic_list())"
    },
    "r": {
     "delete_cmd_postfix": ") ",
     "delete_cmd_prefix": "rm(",
     "library": "var_list.r",
     "varRefreshCmd": "cat(var_dic_list()) "
    }
   },
   "types_to_exclude": [
    "module",
    "function",
    "builtin_function_or_method",
    "instance",
    "_Feature"
   ],
   "window_display": false
  }
 },
 "nbformat": 4,
 "nbformat_minor": 5
}
